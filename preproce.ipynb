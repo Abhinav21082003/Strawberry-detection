{
 "cells": [
  {
   "cell_type": "code",
   "execution_count": 2,
   "id": "64c07154-c0db-4c24-88b1-373deb8ddcf3",
   "metadata": {},
   "outputs": [],
   "source": [
    "import os\n",
    "import cv2\n",
    "import numpy as np\n",
    "def preprocess_dataset(input_dir, output_dir, target_width=640):\n",
    "   \n",
    "    if not os.path.exists(output_dir):\n",
    "        os.makedirs(output_dir)\n",
    "\n",
    "    image_files = [f for f in os.listdir(input_dir) if f.endswith(('.jpg', '.jpeg', '.png'))]\n",
    "\n",
    "    for img_file in image_files:\n",
    "        img_path = os.path.join(input_dir, img_file)\n",
    "        img = cv2.imread(img_path)\n",
    "        h, w = img.shape[:2]\n",
    "        aspect_ratio = target_width / float(w)\n",
    "        target_height = int(h * aspect_ratio)\n",
    "        img_resized = cv2.resize(img, (target_width, target_height))\n",
    "\n",
    "        img_rescaled = img_resized.astype(np.float32) / 255.0\n",
    "\n",
    "        output_path = os.path.join(output_dir, img_file)\n",
    "        cv2.imwrite(output_path, img_rescaled * 255)  \n",
    "\n",
    "input_directory = r\"C:\\Users\\janap\\Desktop\\mini proj final rew\\new review final\\swim\\New folder\\swww\\test\\green st\"\n",
    "output_directory = \"640px img\"\n",
    "preprocess_dataset(input_directory, output_directory)\n"
   ]
  },
  {
   "cell_type": "code",
   "execution_count": 3,
   "id": "bd20e161-8d18-4287-9164-927c3eb1a70a",
   "metadata": {},
   "outputs": [],
   "source": [
    "import cv2\n",
    "import os\n",
    "\n",
    "def reduce_noise(input_dir, output_dir, kernel_size=(1, 1)):\n",
    "    if not os.path.exists(output_dir):\n",
    "        os.makedirs(output_dir)\n",
    "\n",
    "    image_files = [f for f in os.listdir(input_dir) if f.endswith(('.jpg', '.jpeg', '.png'))]\n",
    "\n",
    "    for img_file in image_files:\n",
    "        img_path = os.path.join(input_dir, img_file)\n",
    "        img = cv2.imread(img_path)\n",
    "\n",
    "        blurred_img = cv2.GaussianBlur(img, kernel_size, 0)\n",
    "        output_path = os.path.join(output_dir, img_file)\n",
    "        cv2.imwrite(output_path, blurred_img)\n",
    "\n",
    "input_directory = \"640px img\"\n",
    "output_directory = \"noise_red_images\"\n",
    "reduce_noise(input_directory, output_directory)\n"
   ]
  },
  {
   "cell_type": "code",
   "execution_count": 4,
   "id": "4256fb4f-68b7-4408-ab93-4a4f16ee13c6",
   "metadata": {},
   "outputs": [],
   "source": [
    "import cv2\n",
    "import os\n",
    "\n",
    "def apply_gaussian_blur(input_dir, output_dir, kernel_size=(0, 0)):\n",
    "    # Create the output directory if it doesn't exist\n",
    "    if not os.path.exists(output_dir):\n",
    "        os.makedirs(output_dir)\n",
    "\n",
    "    # Get the list of image files in the input directory\n",
    "    image_files = [f for f in os.listdir(input_dir) if f.endswith(('.jpg', '.jpeg', '.png'))]\n",
    "\n",
    "    for img_file in image_files:\n",
    "        # Read the image\n",
    "        img_path = os.path.join(input_dir, img_file)\n",
    "        img = cv2.imread(img_path)\n",
    "\n",
    "        # Apply Gaussian blur if the kernel size is valid\n",
    "        if kernel_size != (0, 0) and kernel_size[0] > 0 and kernel_size[0] % 2 == 1 and kernel_size[1] > 0 and kernel_size[1] % 2 == 1:\n",
    "            blurred_img = cv2.GaussianBlur(img, kernel_size, 0)\n",
    "        else:\n",
    "            blurred_img = img  # No blur applied if kernel size is invalid\n",
    "\n",
    "        # Save the blurred image to the output directory\n",
    "        output_path = os.path.join(output_dir, img_file)\n",
    "        cv2.imwrite(output_path, blurred_img)\n",
    "\n",
    "# Example usage:\n",
    "input_directory = \"noise_red_images\"\n",
    "output_directory = \"red_blred_images\"\n",
    "apply_gaussian_blur(input_directory, output_directory)\n"
   ]
  },
  {
   "cell_type": "code",
   "execution_count": null,
   "id": "4954c6bd-5e36-4022-bc4d-6244157b0800",
   "metadata": {},
   "outputs": [],
   "source": []
  }
 ],
 "metadata": {
  "kernelspec": {
   "display_name": "Python 3 (ipykernel)",
   "language": "python",
   "name": "python3"
  },
  "language_info": {
   "codemirror_mode": {
    "name": "ipython",
    "version": 3
   },
   "file_extension": ".py",
   "mimetype": "text/x-python",
   "name": "python",
   "nbconvert_exporter": "python",
   "pygments_lexer": "ipython3",
   "version": "3.11.5"
  }
 },
 "nbformat": 4,
 "nbformat_minor": 5
}
